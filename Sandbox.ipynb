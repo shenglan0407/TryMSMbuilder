{
 "cells": [
  {
   "cell_type": "markdown",
   "metadata": {},
   "source": [
    "In this notebook, I want to build MSM with the ALADipeptide data from the example data set.\n",
    "\n",
    "-- figure out format of the input data and how they are handled by the featurizer"
   ]
  },
  {
   "cell_type": "code",
   "execution_count": 66,
   "metadata": {
    "collapsed": true
   },
   "outputs": [],
   "source": [
    "from __future__ import print_function\n",
    "import os\n",
    "%matplotlib inline\n",
    "from matplotlib.pyplot import *\n",
    "from msmbuilder.featurizer import SuperposeFeaturizer\n",
    "from msmbuilder.example_datasets import AlanineDipeptide\n",
    "from msmbuilder.cluster import KCenters\n",
    "from msmbuilder.msm import MarkovStateModel\n",
    "\n",
    "import matplotlib.pyplot as plt"
   ]
  },
  {
   "cell_type": "code",
   "execution_count": 62,
   "metadata": {
    "collapsed": false
   },
   "outputs": [
    {
     "name": "stdout",
     "output_type": "stream",
     "text": [
      "The dataset consists of ten 10ns trajectories of of alanine dipeptide,\n",
      "simulated using OpenMM 6.0.1 (CUDA platform, NVIDIA GTX660) with the\n",
      "AMBER99SB-ILDN force field at 300K (langevin dynamics, friction coefficient\n",
      "of 91/ps, timestep of 2fs) with GBSA implicit solvent. The coordinates are\n",
      "saved every 1ps. Each trajectory contains 9,999 snapshots.\n",
      "\n",
      "The dataset, including the script used to generate the dataset\n",
      "is available on figshare at\n",
      "\n",
      "http://dx.doi.org/10.6084/m9.figshare.1026131\n",
      "\n"
     ]
    }
   ],
   "source": [
    "print(AlanineDipeptide.description())\n",
    "dataset = AlanineDipeptide().get()\n",
    "trajectories = dataset.trajectories #mdtraj objects\n",
    "topology = trajectories[0].topology\n",
    "\n",
    "#index atoms for superposition\n",
    "indices = [atom.index for atom in topology.atoms if atom.element.symbol in ['C', 'O','N']] \n",
    "featurizer = SuperposeFeaturizer(indices, trajectories[0][0])#use the first mdtraj as refrence\n",
    "sequences = featurizer.transform(trajectories)#returns cartesian distances between the indexed atoms in every frame\n",
    "#this is done with refernece to their respective counterpart in the first frame"
   ]
  },
  {
   "cell_type": "code",
   "execution_count": 63,
   "metadata": {
    "collapsed": false
   },
   "outputs": [
    {
     "data": {
      "text/plain": [
       "array([ 0.03700333,  0.01438697,  0.05054713,  0.0103136 ,  0.02201509,\n",
       "        0.03839818,  0.01540395,  0.03276858,  0.01436706,  0.04407318], dtype=float32)"
      ]
     },
     "execution_count": 63,
     "metadata": {},
     "output_type": "execute_result"
    }
   ],
   "source": [
    "sequences[0][1]"
   ]
  },
  {
   "cell_type": "code",
   "execution_count": 64,
   "metadata": {
    "collapsed": true
   },
   "outputs": [],
   "source": [
    "assignments = KCenters(n_clusters=6).fit_predict(sequences)"
   ]
  },
  {
   "cell_type": "code",
   "execution_count": 70,
   "metadata": {
    "collapsed": false
   },
   "outputs": [
    {
     "data": {
      "text/plain": [
       "(array([ 4513.,     0.,     0.,  3687.,  1615.,   184.]),\n",
       " array([ 0.        ,  0.66666667,  1.33333333,  2.        ,  2.66666667,\n",
       "         3.33333333,  4.        ]),\n",
       " <a list of 6 Patch objects>)"
      ]
     },
     "execution_count": 70,
     "metadata": {},
     "output_type": "execute_result"
    },
    {
     "data": {
      "image/png": "[encoded data removed]",
      "text/plain": [
       "<matplotlib.figure.Figure at 0x112907390>"
      ]
     },
     "metadata": {},
     "output_type": "display_data"
    }
   ],
   "source": [
    "for ii in s"
   ]
  },
  {
   "cell_type": "code",
   "execution_count": 34,
   "metadata": {
    "collapsed": false
   },
   "outputs": [
    {
     "name": "stdout",
     "output_type": "stream",
     "text": [
      "n_states=4\tlag_time=1\ttimescales=[ 71.86164344   2.65402092]\n",
      "n_states=4\tlag_time=10\ttimescales=[ 178.45875872    4.9046249 ]\n",
      "n_states=4\tlag_time=20\ttimescales=[ 204.80504947    5.95377729]\n",
      "n_states=4\tlag_time=30\ttimescales=[ 215.99155196    6.18496211]\n",
      "n_states=4\tlag_time=40\ttimescales=[ 224.19739379    8.40648572]\n",
      "\n",
      "n_states=8\tlag_time=1\ttimescales=[ 48.98360966   2.07146593]\n",
      "n_states=8\tlag_time=10\ttimescales=[ 152.91603902    5.46275802]\n",
      "n_states=8\tlag_time=20\ttimescales=[ 199.08624209    5.81460991]\n",
      "n_states=8\tlag_time=30\ttimescales=[ 202.87742426    7.49076792]\n",
      "n_states=8\tlag_time=40\ttimescales=[ 211.25690505    8.46887259]\n",
      "\n",
      "n_states=16\tlag_time=1\ttimescales=[ 118.75351278    3.62856109]\n",
      "n_states=16\tlag_time=10\ttimescales=[ 207.00483327    6.32502182]\n",
      "n_states=16\tlag_time=20\ttimescales=[ 217.10029007    6.24738663]\n",
      "n_states=16\tlag_time=30\ttimescales=[ 227.52020581    8.02427291]\n",
      "n_states=16\tlag_time=40\ttimescales=[ 230.65994024    9.78017484]\n",
      "\n",
      "n_states=32\tlag_time=1\ttimescales=[ 134.32689174    4.33908333]\n",
      "n_states=32\tlag_time=10\ttimescales=[ 219.61406541    6.16824814]\n",
      "n_states=32\tlag_time=20\ttimescales=[ 229.59101068    6.50089664]\n",
      "n_states=32\tlag_time=30\ttimescales=[ 232.94110722    8.53422439]\n",
      "n_states=32\tlag_time=40\ttimescales=[ 235.45058392   11.31055031]\n",
      "\n",
      "n_states=64\tlag_time=1\ttimescales=[ 159.265791      4.80005983]\n",
      "n_states=64\tlag_time=10\ttimescales=[ 230.04064102    6.44341078]\n",
      "n_states=64\tlag_time=20\ttimescales=[ 233.09072924    6.633     ]\n",
      "n_states=64\tlag_time=30\ttimescales=[ 235.36570306    9.27631703]\n",
      "n_states=64\tlag_time=40\ttimescales=[ 236.98286045   11.95303989]\n",
      "\n"
     ]
    }
   ],
   "source": [
    "msmts0, msmts1 = {}, {}\n",
    "lag_times = [1, 10, 20, 30, 40]\n",
    "n_states = [4, 8, 16, 32, 64]\n",
    "\n",
    "for n in n_states:\n",
    "    msmts0[n] = []\n",
    "    msmts1[n] = []\n",
    "    for lag_time in lag_times:\n",
    "        assignments = KCenters(n_clusters=n).fit_predict(sequences)\n",
    "        msm = MarkovStateModel(lag_time=lag_time, verbose=False).fit(assignments)\n",
    "        timescales = msm.timescales_\n",
    "        msmts0[n].append(timescales[0])\n",
    "        msmts1[n].append(timescales[1])\n",
    "        print('n_states=%d\\tlag_time=%d\\ttimescales=%s' % (n, lag_time, timescales[0:2]))\n",
    "    print()"
   ]
  },
  {
   "cell_type": "code",
   "execution_count": 35,
   "metadata": {
    "collapsed": false
   },
   "outputs": [
    {
     "data": {
      "image/png": "[encoded data removed]",
      "text/plain": [
       "<matplotlib.figure.Figure at 0x10e346590>"
      ]
     },
     "metadata": {},
     "output_type": "display_data"
    }
   ],
   "source": [
    "figure(figsize=(14,3))\n",
    "\n",
    "for i, n in enumerate(n_states):\n",
    "    subplot(1,len(n_states),1+i)\n",
    "    plot(lag_times, msmts0[n])\n",
    "    plot(lag_times, msmts1[n])\n",
    "    if i == 0:\n",
    "        ylabel('Relaxation Timescale')\n",
    "    xlabel('Lag Time')\n",
    "    title('%d states' % n)\n",
    "\n",
    "show()\n"
   ]
  },
  {
   "cell_type": "code",
   "execution_count": null,
   "metadata": {
    "collapsed": true
   },
   "outputs": [],
   "source": []
  }
 ],
 "metadata": {
  "kernelspec": {
   "display_name": "Python 2",
   "language": "python",
   "name": "python2"
  },
  "language_info": {
   "codemirror_mode": {
    "name": "ipython",
    "version": 2
   },
   "file_extension": ".py",
   "mimetype": "text/x-python",
   "name": "python",
   "nbconvert_exporter": "python",
   "pygments_lexer": "ipython2",
   "version": "2.7.10"
  }
 },
 "nbformat": 4,
 "nbformat_minor": 0
}
